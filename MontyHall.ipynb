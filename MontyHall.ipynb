{
  "nbformat": 4,
  "nbformat_minor": 0,
  "metadata": {
    "colab": {
      "provenance": [],
      "toc_visible": true,
      "authorship_tag": "ABX9TyMir1bcNagk39iUboRs3Jjl",
      "include_colab_link": true
    },
    "kernelspec": {
      "name": "python3",
      "display_name": "Python 3"
    },
    "language_info": {
      "name": "python"
    }
  },
  "cells": [
    {
      "cell_type": "markdown",
      "metadata": {
        "id": "view-in-github",
        "colab_type": "text"
      },
      "source": [
        "<a href=\"https://colab.research.google.com/github/ezemaudet/ITBA-LAB/blob/main/MontyHall.ipynb\" target=\"_parent\"><img src=\"https://colab.research.google.com/assets/colab-badge.svg\" alt=\"Open In Colab\"/></a>"
      ]
    },
    {
      "cell_type": "code",
      "execution_count": null,
      "metadata": {
        "id": "rZKv2EoIJpK6"
      },
      "outputs": [],
      "source": [
        "import numpy as np"
      ]
    },
    {
      "cell_type": "code",
      "source": [
        "eleccion=np.random.randint(1, high=4, size=1, dtype=int)\n",
        "auto=np.random.randint(1, high=4, size=1, dtype=int)\n",
        "puerta=np.random.randint(1, high=4, size=1, dtype=int)"
      ],
      "metadata": {
        "id": "FNsti2H6J6qS"
      },
      "execution_count": null,
      "outputs": []
    },
    {
      "cell_type": "code",
      "source": [
        "while puerta==eleccion:\n",
        "\t    puerta=np.random.randint(1, high=4, size=1, dtype=int)\n",
        "eleccion, auto, puerta"
      ],
      "metadata": {
        "colab": {
          "base_uri": "https://localhost:8080/"
        },
        "id": "JiRLzilKMVbh",
        "outputId": "8f68d35a-22c0-429f-bd9c-676eba01372d"
      },
      "execution_count": null,
      "outputs": [
        {
          "output_type": "execute_result",
          "data": {
            "text/plain": [
              "(array([1]), array([1]), array([3]))"
            ]
          },
          "metadata": {},
          "execution_count": 4
        }
      ]
    },
    {
      "cell_type": "code",
      "source": [
        " cambio = np.random.choice (auto, eleccion)\n",
        " cambio"
      ],
      "metadata": {
        "colab": {
          "base_uri": "https://localhost:8080/"
        },
        "id": "2BX8v0nWYJ47",
        "outputId": "43c287cf-5336-40f4-a796-2de67ee6462a"
      },
      "execution_count": null,
      "outputs": [
        {
          "output_type": "execute_result",
          "data": {
            "text/plain": [
              "array([1])"
            ]
          },
          "metadata": {},
          "execution_count": 5
        }
      ]
    },
    {
      "cell_type": "code",
      "source": [
        "r=np.random.randint(1, high=3, size=1, dtype=int)\n",
        "r\n"
      ],
      "metadata": {
        "colab": {
          "base_uri": "https://localhost:8080/"
        },
        "id": "qnXuuX-CdnJA",
        "outputId": "a2498a3f-0e82-45e6-bf89-f224d1b1472f"
      },
      "execution_count": null,
      "outputs": [
        {
          "output_type": "execute_result",
          "data": {
            "text/plain": [
              "array([2])"
            ]
          },
          "metadata": {},
          "execution_count": 6
        }
      ]
    },
    {
      "cell_type": "code",
      "source": [
        "hit =0\n",
        "if eleccion==auto: \n",
        "    hit=hit+1\n",
        "hit"
      ],
      "metadata": {
        "colab": {
          "base_uri": "https://localhost:8080/"
        },
        "id": "jrbiy4rSQRDC",
        "outputId": "70e6df06-4b48-4544-a2b7-13f38901107a"
      },
      "execution_count": null,
      "outputs": [
        {
          "output_type": "execute_result",
          "data": {
            "text/plain": [
              "1"
            ]
          },
          "metadata": {},
          "execution_count": 7
        }
      ]
    },
    {
      "cell_type": "code",
      "source": [
        "# Sin cambio de puerta\n",
        "hit=0\n",
        "n=100000\n",
        "i=1\n",
        "while i<n :\n",
        "  eleccion=np.random.randint(1, high=4, size=1, dtype=int)\n",
        "  auto=np.random.randint(1, high=4, size=1, dtype=int)\n",
        " \n",
        "  if eleccion==auto: \n",
        "    hit=hit+1\n",
        "  i=i+1\n",
        "\n",
        "prob=hit/n\n",
        "prob, hit, n\n"
      ],
      "metadata": {
        "colab": {
          "base_uri": "https://localhost:8080/"
        },
        "id": "469Gss5XSVmW",
        "outputId": "b84798d0-08f2-4aeb-f335-7c7cb6b3752c"
      },
      "execution_count": null,
      "outputs": [
        {
          "output_type": "execute_result",
          "data": {
            "text/plain": [
              "(0.33286, 33286, 100000)"
            ]
          },
          "metadata": {},
          "execution_count": 8
        }
      ]
    },
    {
      "cell_type": "code",
      "source": [
        "# Cambiando puerta\n",
        "hit=0\n",
        "n=10000\n",
        "i=1\n",
        "while i<n :\n",
        "  eleccion=np.random.randint(1, high=4, size=1, dtype=int)\n",
        "  auto=np.random.randint(1, high=4, size=1, dtype=int)\n",
        "  puerta=np.random.randint(1, high=4, size=1, dtype=int)\n",
        "  \n",
        "  while puerta ==eleccion or puerta ==auto :\n",
        "        puerta=np.random.randint(1, high=4, size=1, dtype=int)\n",
        "\n",
        "  cambio=6-puerta-eleccion\n",
        "  if cambio==auto:\n",
        "      hit=hit+1\n",
        "  i=i+1\n",
        "\n",
        "prob=hit/n\n",
        "prob, hit, n\n",
        "#eleccion, auto , puerta, cambio"
      ],
      "metadata": {
        "colab": {
          "base_uri": "https://localhost:8080/"
        },
        "id": "8MTxoPM3Ut4W",
        "outputId": "fcc834e8-7ec7-4cdc-f44e-144229fee478"
      },
      "execution_count": null,
      "outputs": [
        {
          "output_type": "execute_result",
          "data": {
            "text/plain": [
              "(0.6588, 6588, 10000)"
            ]
          },
          "metadata": {},
          "execution_count": 9
        }
      ]
    },
    {
      "cell_type": "code",
      "source": [],
      "metadata": {
        "id": "9o9GYo0xThVd"
      },
      "execution_count": null,
      "outputs": []
    },
    {
      "cell_type": "markdown",
      "source": [
        "Trabajo Final Monty Hall"
      ],
      "metadata": {
        "id": "d3_pVAK-TiZL"
      }
    },
    {
      "cell_type": "code",
      "source": [
        "# Sin cambio de puerta\n",
        "import numpy as np\n",
        "from matplotlib import pyplot as plt\n",
        "import random\n",
        "\n",
        "hit=0\n",
        "n=5000\n",
        "x=np.zeros(n+1, dtype='float32')\n",
        "prob = np.zeros(n+1, dtype='float32')\n",
        "i=1\n",
        "while i<n :\n",
        "  eleccion=np.random.randint(1, high=4, size=1, dtype=int)\n",
        "  auto=np.random.randint(1, high=4, size=1, dtype=int)\n",
        " \n",
        "  if eleccion==auto: \n",
        "    hit=hit+1\n",
        "  i=i+1\n",
        "\n",
        "  prob[i]=hit/n\n",
        "  x[i]=i\n",
        "plt.plot(x, prob)\n",
        "\n",
        "# Cambiando puerta\n",
        "hit=0\n",
        "x2=np.zeros(n+1, dtype='float32')\n",
        "prob2 = np.zeros(n+1, dtype='float32')\n",
        "i=1\n",
        "while i<n :\n",
        "  eleccion=np.random.randint(1, high=4, size=1, dtype=int)\n",
        "  auto=np.random.randint(1, high=4, size=1, dtype=int)\n",
        "  puerta=np.random.randint(1, high=4, size=1, dtype=int)\n",
        "  \n",
        "  while puerta ==eleccion or puerta ==auto :\n",
        "        puerta=np.random.randint(1, high=4, size=1, dtype=int)\n",
        "\n",
        "  cambio=6-puerta-eleccion\n",
        "  if cambio==auto:\n",
        "      hit=hit+1\n",
        "  i=i+1\n",
        "\n",
        "  prob2[i]=hit/n\n",
        "  x2[i]=i\n",
        "plt.plot(x2, prob2)\n",
        "\n",
        "# Al azar\n",
        "\n",
        "hit=0\n",
        "x3=np.zeros(n+1, dtype='float32')\n",
        "prob3 = np.zeros(n+1, dtype='float32')\n",
        "i=1\n",
        "while i<n :\n",
        "  eleccion=np.random.randint(1, high=4, size=1, dtype=int)\n",
        "  auto=np.random.randint(1, high=4, size=1, dtype=int)\n",
        "  puerta=np.random.randint(1, high=4, size=1, dtype=int)\n",
        "  \n",
        "  while puerta ==eleccion or puerta ==auto :\n",
        "        puerta=np.random.randint(1, high=4, size=1, dtype=int)\n",
        "\n",
        "  cambio=6-puerta-eleccion\n",
        "  r=np.random.randint(1, high=3, size=1, dtype=int)\n",
        "  if r==1 :\n",
        "    azar=cambio\n",
        "  else:\n",
        "       azar=eleccion\n",
        "\n",
        "  if azar==auto:\n",
        "      hit=hit+1\n",
        "  i=i+1\n",
        "\n",
        "  prob3[i]=hit/n\n",
        "  x3[i]=i\n",
        "plt.plot(x3, prob3)\n",
        "plt.legend(['Sin Cambio', 'Cambio', 'Azar'])\n",
        "plt.xlabel(\"Iteraciones\")\n",
        "plt.ylabel(\"Probabilidad\")"
      ],
      "metadata": {
        "colab": {
          "base_uri": "https://localhost:8080/",
          "height": 300
        },
        "id": "xsaFDIdMThh8",
        "outputId": "d55b9149-b8bf-4aaf-ad43-0698bb5c3328"
      },
      "execution_count": null,
      "outputs": [
        {
          "output_type": "execute_result",
          "data": {
            "text/plain": [
              "Text(0, 0.5, 'Probabilidad')"
            ]
          },
          "metadata": {},
          "execution_count": 10
        },
        {
          "output_type": "display_data",
          "data": {
            "text/plain": [
              "<Figure size 432x288 with 1 Axes>"
            ],
            "image/png": "[encoded data removed]"
          },
          "metadata": {
            "needs_background": "light"
          }
        }
      ]
    },
    {
      "cell_type": "code",
      "source": [
        "# Sin cambio de puerta\n",
        "import numpy as np\n",
        "from matplotlib import pyplot as plt\n",
        "\n",
        "hit=0\n",
        "n=100000\n",
        "x=np.zeros(n+1, dtype='float32')\n",
        "hitt = np.zeros(n+1, dtype='float32')\n",
        "i=1\n",
        "while i<n :\n",
        "  eleccion=np.random.randint(1, high=4, size=1, dtype=int)\n",
        "  auto=np.random.randint(1, high=4, size=1, dtype=int)\n",
        " \n",
        "  if eleccion==auto: \n",
        "    hit=hit+1\n",
        "  i=i+1\n",
        "\n",
        "  hitt[i]=hit\n",
        "  x[i]=i\n",
        "plt.plot(x, hitt)\n",
        "\n",
        "# Cambiando puerta\n",
        "hit=0\n",
        "x2=np.zeros(n+1, dtype='float32')\n",
        "hitt2 = np.zeros(n+1, dtype='float32')\n",
        "i=1\n",
        "while i<n :\n",
        "  eleccion=np.random.randint(1, high=4, size=1, dtype=int)\n",
        "  auto=np.random.randint(1, high=4, size=1, dtype=int)\n",
        "  puerta=np.random.randint(1, high=4, size=1, dtype=int)\n",
        "  \n",
        "  while puerta ==eleccion or puerta ==auto :\n",
        "        puerta=np.random.randint(1, high=4, size=1, dtype=int)\n",
        "\n",
        "  cambio=6-puerta-eleccion\n",
        "  if cambio==auto:\n",
        "      hit=hit+1\n",
        "  i=i+1\n",
        "\n",
        "  hitt2[i]=hit\n",
        "  x2[i]=i\n",
        "plt.plot(x2, hitt2)"
      ],
      "metadata": {
        "colab": {
          "base_uri": "https://localhost:8080/",
          "height": 286
        },
        "id": "3fuzsSZLZBl3",
        "outputId": "c7731407-90f1-436b-d9b1-273041739ec5"
      },
      "execution_count": null,
      "outputs": [
        {
          "output_type": "execute_result",
          "data": {
            "text/plain": [
              "[<matplotlib.lines.Line2D at 0x7fabd3f621d0>]"
            ]
          },
          "metadata": {},
          "execution_count": 11
        },
        {
          "output_type": "display_data",
          "data": {
            "text/plain": [
              "<Figure size 432x288 with 1 Axes>"
            ],
            "image/png": "[encoded data removed]"
          },
          "metadata": {
            "needs_background": "light"
          }
        }
      ]
    }
  ]
}